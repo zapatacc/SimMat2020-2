{
 "cells": [
  {
   "cell_type": "code",
   "execution_count": null,
   "metadata": {},
   "outputs": [],
   "source": [
    "from ddeint import ddeint\n",
    "\n",
    "\n",
    "def model(Y,t,tau):\n",
    "    x,y,z = Y(t)\n",
    "    xd, yd, zd = Y(t-tau)\n",
    "    \n",
    "    \n",
    "    dx = x**2\n",
    "    dy = x**2+y**2\n",
    "    dz = b2*w2* yd*z/(m+yd)\n",
    "    \n",
    "    return [dx,dy,dz]\n",
    "\n",
    "tt = np.linspace(0,300,1000)\n",
    "sol_depredadore_presa = ddeint(model, g, tt)"
   ]
  }
 ],
 "metadata": {
  "kernelspec": {
   "display_name": "Python 3",
   "language": "python",
   "name": "python3"
  },
  "language_info": {
   "codemirror_mode": {
    "name": "ipython",
    "version": 3
   },
   "file_extension": ".py",
   "mimetype": "text/x-python",
   "name": "python",
   "nbconvert_exporter": "python",
   "pygments_lexer": "ipython3",
   "version": "3.7.6"
  }
 },
 "nbformat": 4,
 "nbformat_minor": 4
}
