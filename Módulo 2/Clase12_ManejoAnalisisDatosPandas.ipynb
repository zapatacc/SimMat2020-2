{
 "cells": [
  {
   "cell_type": "markdown",
   "metadata": {},
   "source": [
    "# Aplicando Python para análisis de precios: descarga, manejo y análisis de datos"
   ]
  },
  {
   "cell_type": "markdown",
   "metadata": {},
   "source": [
    "<img style=\"float: right; margin: 0px 0px 15px 15px;\" src=\"https://upload.wikimedia.org/wikipedia/commons/0/0a/Python.svg\" width=\"300px\" height=\"100px\" />\n",
    "\n",
    "> En esta y en las siguientes dos clases veremos un caso de aplicación de simulación montecarlo en la toma de decisiones. Para lograr este objetivo, primero veremos (en esta clase) como manipular datos con *pandas*, tanto desde un archivo local de excel como remotamente desde Yahoo Finance.\n",
    "\n",
    "> Python Data Analysis Library: pandas es una librería de código abierto, fácil de usar y que provee alto rendimiento en estructuras de datos y herramientas de análisis de datos para el lenguaje de programación Python.\n",
    "\n",
    "**Referencias:**\n",
    "- http://pandas.pydata.org/\n",
    "- http://www.learndatasci.com/python-finance-part-yahoo-finance-api-pandas-matplotlib/\n",
    "- https://www.datacamp.com/community/tutorials/python-excel-tutorial\n",
    "- https://pandas.pydata.org/pandas-docs/stable/reference/api/pandas.DataFrame.html"
   ]
  },
  {
   "cell_type": "markdown",
   "metadata": {},
   "source": [
    "## 0. Motivación\n",
    "\n",
    "<img style=\"float: right; margin: 0px 0px 15px 15px;\" src=\"https://upload.wikimedia.org/wikipedia/commons/d/d7/Philippine-stock-market-board.jpg\" width=\"400px\" height=\"125px\" />\n",
    "\n",
    "Hace menos de una década, los instrumentos financieros estaban en la cúspide de la popularidad. Las instituciones financieras de todo el mundo estaban negociando miles de millones de dólares de estos instrumentos a diario, y los analistas cuantitativos estaban modelándolos utilizando el cálculo estocástico y el poderoso `C++`.\n",
    "\n",
    "Sin embargo, el avance en los últimos años ha sido impresionante y las cosas han cambiado. Por una parte, la [crisis financiera del 2008](https://es.wikipedia.org/wiki/Crisis_financiera_de_2008) fue producida por los instrumentos financieros llamados *derivados*. Por otra parte, los volúmenes transaccionales han bajado y la demanda de modelado con `C++` se ha marchitado con ellos. Además, un nuevo jugador entró en la competencia... `¡Python!`\n",
    "\n",
    "`Python` ha estado ganando muchos seguidores en la industria financiera en los últimos años y con razón. No en vano, junto a `R` son los lenguajes de programación más utilizados en cuanto a análisis financiero."
   ]
  },
  {
   "cell_type": "markdown",
   "metadata": {},
   "source": [
    "## 1. Descarga de datos de Yahoo! Finance\n",
    "Para esto utilizaremos el paquete *pandas_datareader*.\n",
    "\n",
    "**Nota**: Usualmente, las distribuciones de Python no cuentan, por defecto, con el paquete *pandas_datareader*. Por lo que será necesario instalarlo aparte:\n",
    "- buscar en inicio \"Anaconda prompt\" y ejecutarlo como administrador;\n",
    "- el siguiente comando instala el paquete en Anaconda: *conda install pandas-datareader*;\n",
    "- una vez finalice la instalación correr el comando: *conda list*, y buscar que sí se haya instalado pandas-datareader"
   ]
  },
  {
   "cell_type": "code",
   "execution_count": 2,
   "metadata": {},
   "outputs": [],
   "source": [
    "# Importar el modulo data del paquete pandas_datareader. La comunidad lo importa con el nombre de web\n",
    "import pandas as pd\n",
    "import pandas_datareader as web"
   ]
  },
  {
   "cell_type": "code",
   "execution_count": 4,
   "metadata": {},
   "outputs": [],
   "source": [
    "# Librerías estándar para arreglos y gráficos\n",
    "import numpy as np\n",
    "import matplotlib.pyplot as plt"
   ]
  },
  {
   "cell_type": "markdown",
   "metadata": {},
   "source": [
    "Primero importaremos datos desde un archivo con extensión `.csv`"
   ]
  },
  {
   "cell_type": "code",
   "execution_count": 11,
   "metadata": {},
   "outputs": [
    {
     "data": {
      "text/html": [
       "<div>\n",
       "<style scoped>\n",
       "    .dataframe tbody tr th:only-of-type {\n",
       "        vertical-align: middle;\n",
       "    }\n",
       "\n",
       "    .dataframe tbody tr th {\n",
       "        vertical-align: top;\n",
       "    }\n",
       "\n",
       "    .dataframe thead th {\n",
       "        text-align: right;\n",
       "    }\n",
       "</style>\n",
       "<table border=\"1\" class=\"dataframe\">\n",
       "  <thead>\n",
       "    <tr style=\"text-align: right;\">\n",
       "      <th></th>\n",
       "      <th>Date</th>\n",
       "      <th>Open</th>\n",
       "      <th>High</th>\n",
       "      <th>Low</th>\n",
       "      <th>Close</th>\n",
       "      <th>Adj Close</th>\n",
       "      <th>Volume</th>\n",
       "    </tr>\n",
       "  </thead>\n",
       "  <tbody>\n",
       "    <tr>\n",
       "      <th>0</th>\n",
       "      <td>1972-08-25</td>\n",
       "      <td>0.063477</td>\n",
       "      <td>0.064697</td>\n",
       "      <td>0.063477</td>\n",
       "      <td>0.064453</td>\n",
       "      <td>0.023123</td>\n",
       "      <td>2508800</td>\n",
       "    </tr>\n",
       "    <tr>\n",
       "      <th>1</th>\n",
       "      <td>1972-08-28</td>\n",
       "      <td>0.064453</td>\n",
       "      <td>0.064941</td>\n",
       "      <td>0.064209</td>\n",
       "      <td>0.064209</td>\n",
       "      <td>0.023035</td>\n",
       "      <td>972800</td>\n",
       "    </tr>\n",
       "    <tr>\n",
       "      <th>2</th>\n",
       "      <td>1972-08-29</td>\n",
       "      <td>0.063965</td>\n",
       "      <td>0.063965</td>\n",
       "      <td>0.063477</td>\n",
       "      <td>0.063477</td>\n",
       "      <td>0.022772</td>\n",
       "      <td>1945600</td>\n",
       "    </tr>\n",
       "    <tr>\n",
       "      <th>3</th>\n",
       "      <td>1972-08-30</td>\n",
       "      <td>0.063477</td>\n",
       "      <td>0.063477</td>\n",
       "      <td>0.062988</td>\n",
       "      <td>0.063477</td>\n",
       "      <td>0.022772</td>\n",
       "      <td>409600</td>\n",
       "    </tr>\n",
       "    <tr>\n",
       "      <th>4</th>\n",
       "      <td>1972-08-31</td>\n",
       "      <td>0.062988</td>\n",
       "      <td>0.062988</td>\n",
       "      <td>0.062500</td>\n",
       "      <td>0.062500</td>\n",
       "      <td>0.022422</td>\n",
       "      <td>870400</td>\n",
       "    </tr>\n",
       "    <tr>\n",
       "      <th>...</th>\n",
       "      <td>...</td>\n",
       "      <td>...</td>\n",
       "      <td>...</td>\n",
       "      <td>...</td>\n",
       "      <td>...</td>\n",
       "      <td>...</td>\n",
       "      <td>...</td>\n",
       "    </tr>\n",
       "    <tr>\n",
       "      <th>12149</th>\n",
       "      <td>2020-10-28</td>\n",
       "      <td>140.960007</td>\n",
       "      <td>142.130005</td>\n",
       "      <td>139.880005</td>\n",
       "      <td>140.039993</td>\n",
       "      <td>140.039993</td>\n",
       "      <td>5616400</td>\n",
       "    </tr>\n",
       "    <tr>\n",
       "      <th>12150</th>\n",
       "      <td>2020-10-29</td>\n",
       "      <td>140.000000</td>\n",
       "      <td>141.110001</td>\n",
       "      <td>138.699997</td>\n",
       "      <td>139.919998</td>\n",
       "      <td>139.919998</td>\n",
       "      <td>5051300</td>\n",
       "    </tr>\n",
       "    <tr>\n",
       "      <th>12151</th>\n",
       "      <td>2020-10-30</td>\n",
       "      <td>139.179993</td>\n",
       "      <td>140.089996</td>\n",
       "      <td>137.369995</td>\n",
       "      <td>138.750000</td>\n",
       "      <td>138.750000</td>\n",
       "      <td>6200600</td>\n",
       "    </tr>\n",
       "    <tr>\n",
       "      <th>12152</th>\n",
       "      <td>2020-11-02</td>\n",
       "      <td>140.589996</td>\n",
       "      <td>140.809998</td>\n",
       "      <td>139.029999</td>\n",
       "      <td>140.399994</td>\n",
       "      <td>140.399994</td>\n",
       "      <td>5525200</td>\n",
       "    </tr>\n",
       "    <tr>\n",
       "      <th>12153</th>\n",
       "      <td>2020-11-03</td>\n",
       "      <td>141.649994</td>\n",
       "      <td>144.160004</td>\n",
       "      <td>141.570007</td>\n",
       "      <td>142.779999</td>\n",
       "      <td>142.779999</td>\n",
       "      <td>5133900</td>\n",
       "    </tr>\n",
       "  </tbody>\n",
       "</table>\n",
       "<p>12154 rows × 7 columns</p>\n",
       "</div>"
      ],
      "text/plain": [
       "             Date        Open        High         Low       Close   Adj Close  \\\n",
       "0      1972-08-25    0.063477    0.064697    0.063477    0.064453    0.023123   \n",
       "1      1972-08-28    0.064453    0.064941    0.064209    0.064209    0.023035   \n",
       "2      1972-08-29    0.063965    0.063965    0.063477    0.063477    0.022772   \n",
       "3      1972-08-30    0.063477    0.063477    0.062988    0.063477    0.022772   \n",
       "4      1972-08-31    0.062988    0.062988    0.062500    0.062500    0.022422   \n",
       "...           ...         ...         ...         ...         ...         ...   \n",
       "12149  2020-10-28  140.960007  142.130005  139.880005  140.039993  140.039993   \n",
       "12150  2020-10-29  140.000000  141.110001  138.699997  139.919998  139.919998   \n",
       "12151  2020-10-30  139.179993  140.089996  137.369995  138.750000  138.750000   \n",
       "12152  2020-11-02  140.589996  140.809998  139.029999  140.399994  140.399994   \n",
       "12153  2020-11-03  141.649994  144.160004  141.570007  142.779999  142.779999   \n",
       "\n",
       "        Volume  \n",
       "0      2508800  \n",
       "1       972800  \n",
       "2      1945600  \n",
       "3       409600  \n",
       "4       870400  \n",
       "...        ...  \n",
       "12149  5616400  \n",
       "12150  5051300  \n",
       "12151  6200600  \n",
       "12152  5525200  \n",
       "12153  5133900  \n",
       "\n",
       "[12154 rows x 7 columns]"
      ]
     },
     "execution_count": 11,
     "metadata": {},
     "output_type": "execute_result"
    }
   ],
   "source": [
    "#Importar datos de un archivo csv\n",
    "name = \"WMT.csv\"\n",
    "datos = pd.read_csv(name)\n",
    "datos"
   ]
  },
  {
   "cell_type": "markdown",
   "metadata": {},
   "source": [
    "Ahora lo haremos desde Yahoo Finance"
   ]
  },
  {
   "cell_type": "code",
   "execution_count": 15,
   "metadata": {},
   "outputs": [],
   "source": [
    "web.DataReader?"
   ]
  },
  {
   "cell_type": "code",
   "execution_count": 16,
   "metadata": {},
   "outputs": [
    {
     "data": {
      "text/plain": [
       "Date\n",
       "1972-08-25      0.023123\n",
       "1972-08-28      0.023035\n",
       "1972-08-29      0.022772\n",
       "1972-08-30      0.022772\n",
       "1972-08-31      0.022422\n",
       "                 ...    \n",
       "2020-10-28    140.039993\n",
       "2020-10-29    139.919998\n",
       "2020-10-30    138.750000\n",
       "2020-11-02    140.399994\n",
       "2020-11-03    142.779999\n",
       "Name: Adj Close, Length: 12154, dtype: float64"
      ]
     },
     "execution_count": 16,
     "metadata": {},
     "output_type": "execute_result"
    }
   ],
   "source": [
    "datos = web.DataReader('WMT','yahoo','1972-08-25','2020-11-03')\n",
    "datos[\"Adj Close\"]"
   ]
  },
  {
   "cell_type": "code",
   "execution_count": 17,
   "metadata": {},
   "outputs": [],
   "source": []
  },
  {
   "cell_type": "code",
   "execution_count": 19,
   "metadata": {},
   "outputs": [],
   "source": [
    "# Escribir una función para generalizar la importación desde Yahoo\n",
    "def get_closes(names,start,end):\n",
    "    precios = web.DataReader(names,'yahoo',start,end)\n",
    "    closes = precios[\"Adj Close\"]    \n",
    "    return closes"
   ]
  },
  {
   "cell_type": "code",
   "execution_count": 19,
   "metadata": {},
   "outputs": [],
   "source": [
    "# Instrumentos a descargar \n",
    "names = ['BIMBOA.MX','AEROMEX.MX', 'GFAMSAA.MX']\n",
    "\n",
    "# Fechas: inicios 2015 a finales de 2019\n",
    "start = '2015-01-01'\n",
    "end = '2020-11-03'"
   ]
  },
  {
   "cell_type": "code",
   "execution_count": 20,
   "metadata": {
    "scrolled": false
   },
   "outputs": [
    {
     "data": {
      "text/html": [
       "<div>\n",
       "<style scoped>\n",
       "    .dataframe tbody tr th:only-of-type {\n",
       "        vertical-align: middle;\n",
       "    }\n",
       "\n",
       "    .dataframe tbody tr th {\n",
       "        vertical-align: top;\n",
       "    }\n",
       "\n",
       "    .dataframe thead th {\n",
       "        text-align: right;\n",
       "    }\n",
       "</style>\n",
       "<table border=\"1\" class=\"dataframe\">\n",
       "  <thead>\n",
       "    <tr style=\"text-align: right;\">\n",
       "      <th>Symbols</th>\n",
       "      <th>BIMBOA.MX</th>\n",
       "      <th>AEROMEX.MX</th>\n",
       "      <th>GFAMSAA.MX</th>\n",
       "    </tr>\n",
       "    <tr>\n",
       "      <th>Date</th>\n",
       "      <th></th>\n",
       "      <th></th>\n",
       "      <th></th>\n",
       "    </tr>\n",
       "  </thead>\n",
       "  <tbody>\n",
       "    <tr>\n",
       "      <th>2015-01-02</th>\n",
       "      <td>38.051258</td>\n",
       "      <td>19.389999</td>\n",
       "      <td>11.670</td>\n",
       "    </tr>\n",
       "    <tr>\n",
       "      <th>2015-01-05</th>\n",
       "      <td>37.993843</td>\n",
       "      <td>20.030001</td>\n",
       "      <td>11.000</td>\n",
       "    </tr>\n",
       "    <tr>\n",
       "      <th>2015-01-06</th>\n",
       "      <td>37.716381</td>\n",
       "      <td>19.570000</td>\n",
       "      <td>11.330</td>\n",
       "    </tr>\n",
       "    <tr>\n",
       "      <th>2015-01-07</th>\n",
       "      <td>38.644463</td>\n",
       "      <td>19.430000</td>\n",
       "      <td>11.430</td>\n",
       "    </tr>\n",
       "    <tr>\n",
       "      <th>2015-01-08</th>\n",
       "      <td>39.247234</td>\n",
       "      <td>20.840000</td>\n",
       "      <td>11.540</td>\n",
       "    </tr>\n",
       "    <tr>\n",
       "      <th>...</th>\n",
       "      <td>...</td>\n",
       "      <td>...</td>\n",
       "      <td>...</td>\n",
       "    </tr>\n",
       "    <tr>\n",
       "      <th>2020-10-27</th>\n",
       "      <td>43.459999</td>\n",
       "      <td>4.110000</td>\n",
       "      <td>0.400</td>\n",
       "    </tr>\n",
       "    <tr>\n",
       "      <th>2020-10-28</th>\n",
       "      <td>42.779999</td>\n",
       "      <td>4.200000</td>\n",
       "      <td>0.391</td>\n",
       "    </tr>\n",
       "    <tr>\n",
       "      <th>2020-10-29</th>\n",
       "      <td>40.650002</td>\n",
       "      <td>4.220000</td>\n",
       "      <td>0.397</td>\n",
       "    </tr>\n",
       "    <tr>\n",
       "      <th>2020-10-30</th>\n",
       "      <td>40.990002</td>\n",
       "      <td>4.240000</td>\n",
       "      <td>0.380</td>\n",
       "    </tr>\n",
       "    <tr>\n",
       "      <th>2020-11-03</th>\n",
       "      <td>41.660000</td>\n",
       "      <td>4.450000</td>\n",
       "      <td>0.380</td>\n",
       "    </tr>\n",
       "  </tbody>\n",
       "</table>\n",
       "<p>1468 rows × 3 columns</p>\n",
       "</div>"
      ],
      "text/plain": [
       "Symbols     BIMBOA.MX  AEROMEX.MX  GFAMSAA.MX\n",
       "Date                                         \n",
       "2015-01-02  38.051258   19.389999      11.670\n",
       "2015-01-05  37.993843   20.030001      11.000\n",
       "2015-01-06  37.716381   19.570000      11.330\n",
       "2015-01-07  38.644463   19.430000      11.430\n",
       "2015-01-08  39.247234   20.840000      11.540\n",
       "...               ...         ...         ...\n",
       "2020-10-27  43.459999    4.110000       0.400\n",
       "2020-10-28  42.779999    4.200000       0.391\n",
       "2020-10-29  40.650002    4.220000       0.397\n",
       "2020-10-30  40.990002    4.240000       0.380\n",
       "2020-11-03  41.660000    4.450000       0.380\n",
       "\n",
       "[1468 rows x 3 columns]"
      ]
     },
     "execution_count": 20,
     "metadata": {},
     "output_type": "execute_result"
    }
   ],
   "source": [
    "# Obtenemos los precios ajustados en el cierre\n",
    "datos_MX = get_closes(names,start,end)\n",
    "datos_MX"
   ]
  },
  {
   "cell_type": "markdown",
   "metadata": {},
   "source": [
    "¿Cómo lucen estos datos?"
   ]
  },
  {
   "cell_type": "code",
   "execution_count": 21,
   "metadata": {},
   "outputs": [
    {
     "data": {
      "text/plain": [
       "<matplotlib.axes._subplots.AxesSubplot at 0x292d57ada88>"
      ]
     },
     "execution_count": 21,
     "metadata": {},
     "output_type": "execute_result"
    },
    {
     "data": {
      "image/png": "[encoded data removed]",
      "text/plain": [
       "<Figure size 1080x576 with 1 Axes>"
      ]
     },
     "metadata": {
      "needs_background": "light"
     },
     "output_type": "display_data"
    }
   ],
   "source": [
    "# Graficar\n",
    "datos_MX.plot(figsize=(15,8))"
   ]
  },
  {
   "cell_type": "markdown",
   "metadata": {},
   "source": [
    "Una vez tenemos los datos, podemos operar con ellos. Por ejemplo un resumen de datos estadísticos se podría obtener con"
   ]
  },
  {
   "cell_type": "code",
   "execution_count": 22,
   "metadata": {},
   "outputs": [
    {
     "data": {
      "text/html": [
       "<div>\n",
       "<style scoped>\n",
       "    .dataframe tbody tr th:only-of-type {\n",
       "        vertical-align: middle;\n",
       "    }\n",
       "\n",
       "    .dataframe tbody tr th {\n",
       "        vertical-align: top;\n",
       "    }\n",
       "\n",
       "    .dataframe thead th {\n",
       "        text-align: right;\n",
       "    }\n",
       "</style>\n",
       "<table border=\"1\" class=\"dataframe\">\n",
       "  <thead>\n",
       "    <tr style=\"text-align: right;\">\n",
       "      <th>Symbols</th>\n",
       "      <th>BIMBOA.MX</th>\n",
       "      <th>AEROMEX.MX</th>\n",
       "      <th>GFAMSAA.MX</th>\n",
       "    </tr>\n",
       "  </thead>\n",
       "  <tbody>\n",
       "    <tr>\n",
       "      <th>count</th>\n",
       "      <td>1468.000000</td>\n",
       "      <td>1468.000000</td>\n",
       "      <td>1468.000000</td>\n",
       "    </tr>\n",
       "    <tr>\n",
       "      <th>mean</th>\n",
       "      <td>41.342703</td>\n",
       "      <td>26.225712</td>\n",
       "      <td>8.517056</td>\n",
       "    </tr>\n",
       "    <tr>\n",
       "      <th>std</th>\n",
       "      <td>5.375268</td>\n",
       "      <td>10.701337</td>\n",
       "      <td>3.735674</td>\n",
       "    </tr>\n",
       "    <tr>\n",
       "      <th>min</th>\n",
       "      <td>26.563566</td>\n",
       "      <td>4.110000</td>\n",
       "      <td>0.280000</td>\n",
       "    </tr>\n",
       "    <tr>\n",
       "      <th>25%</th>\n",
       "      <td>37.734069</td>\n",
       "      <td>18.817500</td>\n",
       "      <td>5.920000</td>\n",
       "    </tr>\n",
       "    <tr>\n",
       "      <th>50%</th>\n",
       "      <td>40.696760</td>\n",
       "      <td>26.755000</td>\n",
       "      <td>9.600000</td>\n",
       "    </tr>\n",
       "    <tr>\n",
       "      <th>75%</th>\n",
       "      <td>44.528836</td>\n",
       "      <td>36.912499</td>\n",
       "      <td>11.440000</td>\n",
       "    </tr>\n",
       "    <tr>\n",
       "      <th>max</th>\n",
       "      <td>57.545860</td>\n",
       "      <td>46.930000</td>\n",
       "      <td>15.340000</td>\n",
       "    </tr>\n",
       "  </tbody>\n",
       "</table>\n",
       "</div>"
      ],
      "text/plain": [
       "Symbols    BIMBOA.MX   AEROMEX.MX   GFAMSAA.MX\n",
       "count    1468.000000  1468.000000  1468.000000\n",
       "mean       41.342703    26.225712     8.517056\n",
       "std         5.375268    10.701337     3.735674\n",
       "min        26.563566     4.110000     0.280000\n",
       "25%        37.734069    18.817500     5.920000\n",
       "50%        40.696760    26.755000     9.600000\n",
       "75%        44.528836    36.912499    11.440000\n",
       "max        57.545860    46.930000    15.340000"
      ]
     },
     "execution_count": 22,
     "metadata": {},
     "output_type": "execute_result"
    }
   ],
   "source": [
    "# Método describe\n",
    "datos_MX.describe()"
   ]
  },
  {
   "cell_type": "markdown",
   "metadata": {},
   "source": [
    "## 2. Rendimientos diarios\n",
    "\n",
    "Para una sucesión de precios $\\{S_t\\}_{t=0}^{n}$, el rendimiento simple $R_t$ se define como el el cambio porcentual\n",
    "$$\n",
    "R_t=\\frac{S_t-S_{t-1}}{S_{t-1}}\n",
    "$$\n",
    "para $t=1,\\ldots,n$.\n",
    "\n",
    "Para el ejemplo en curso, ¿cómo calcular esto?"
   ]
  },
  {
   "cell_type": "code",
   "execution_count": 24,
   "metadata": {
    "scrolled": false
   },
   "outputs": [
    {
     "data": {
      "text/html": [
       "<div>\n",
       "<style scoped>\n",
       "    .dataframe tbody tr th:only-of-type {\n",
       "        vertical-align: middle;\n",
       "    }\n",
       "\n",
       "    .dataframe tbody tr th {\n",
       "        vertical-align: top;\n",
       "    }\n",
       "\n",
       "    .dataframe thead th {\n",
       "        text-align: right;\n",
       "    }\n",
       "</style>\n",
       "<table border=\"1\" class=\"dataframe\">\n",
       "  <thead>\n",
       "    <tr style=\"text-align: right;\">\n",
       "      <th>Symbols</th>\n",
       "      <th>BIMBOA.MX</th>\n",
       "      <th>AEROMEX.MX</th>\n",
       "      <th>GFAMSAA.MX</th>\n",
       "    </tr>\n",
       "    <tr>\n",
       "      <th>Date</th>\n",
       "      <th></th>\n",
       "      <th></th>\n",
       "      <th></th>\n",
       "    </tr>\n",
       "  </thead>\n",
       "  <tbody>\n",
       "    <tr>\n",
       "      <th>2015-01-02</th>\n",
       "      <td>NaN</td>\n",
       "      <td>NaN</td>\n",
       "      <td>NaN</td>\n",
       "    </tr>\n",
       "    <tr>\n",
       "      <th>2015-01-05</th>\n",
       "      <td>38.051258</td>\n",
       "      <td>19.389999</td>\n",
       "      <td>11.670</td>\n",
       "    </tr>\n",
       "    <tr>\n",
       "      <th>2015-01-06</th>\n",
       "      <td>37.993843</td>\n",
       "      <td>20.030001</td>\n",
       "      <td>11.000</td>\n",
       "    </tr>\n",
       "    <tr>\n",
       "      <th>2015-01-07</th>\n",
       "      <td>37.716381</td>\n",
       "      <td>19.570000</td>\n",
       "      <td>11.330</td>\n",
       "    </tr>\n",
       "    <tr>\n",
       "      <th>2015-01-08</th>\n",
       "      <td>38.644463</td>\n",
       "      <td>19.430000</td>\n",
       "      <td>11.430</td>\n",
       "    </tr>\n",
       "    <tr>\n",
       "      <th>...</th>\n",
       "      <td>...</td>\n",
       "      <td>...</td>\n",
       "      <td>...</td>\n",
       "    </tr>\n",
       "    <tr>\n",
       "      <th>2020-10-27</th>\n",
       "      <td>42.400002</td>\n",
       "      <td>4.380000</td>\n",
       "      <td>0.400</td>\n",
       "    </tr>\n",
       "    <tr>\n",
       "      <th>2020-10-28</th>\n",
       "      <td>43.459999</td>\n",
       "      <td>4.110000</td>\n",
       "      <td>0.400</td>\n",
       "    </tr>\n",
       "    <tr>\n",
       "      <th>2020-10-29</th>\n",
       "      <td>42.779999</td>\n",
       "      <td>4.200000</td>\n",
       "      <td>0.391</td>\n",
       "    </tr>\n",
       "    <tr>\n",
       "      <th>2020-10-30</th>\n",
       "      <td>40.650002</td>\n",
       "      <td>4.220000</td>\n",
       "      <td>0.397</td>\n",
       "    </tr>\n",
       "    <tr>\n",
       "      <th>2020-11-03</th>\n",
       "      <td>40.990002</td>\n",
       "      <td>4.240000</td>\n",
       "      <td>0.380</td>\n",
       "    </tr>\n",
       "  </tbody>\n",
       "</table>\n",
       "<p>1468 rows × 3 columns</p>\n",
       "</div>"
      ],
      "text/plain": [
       "Symbols     BIMBOA.MX  AEROMEX.MX  GFAMSAA.MX\n",
       "Date                                         \n",
       "2015-01-02        NaN         NaN         NaN\n",
       "2015-01-05  38.051258   19.389999      11.670\n",
       "2015-01-06  37.993843   20.030001      11.000\n",
       "2015-01-07  37.716381   19.570000      11.330\n",
       "2015-01-08  38.644463   19.430000      11.430\n",
       "...               ...         ...         ...\n",
       "2020-10-27  42.400002    4.380000       0.400\n",
       "2020-10-28  43.459999    4.110000       0.400\n",
       "2020-10-29  42.779999    4.200000       0.391\n",
       "2020-10-30  40.650002    4.220000       0.397\n",
       "2020-11-03  40.990002    4.240000       0.380\n",
       "\n",
       "[1468 rows x 3 columns]"
      ]
     },
     "execution_count": 24,
     "metadata": {},
     "output_type": "execute_result"
    }
   ],
   "source": [
    "# Método shift\n",
    "datos_MX.shift()"
   ]
  },
  {
   "cell_type": "code",
   "execution_count": 29,
   "metadata": {
    "scrolled": false
   },
   "outputs": [
    {
     "data": {
      "text/html": [
       "<div>\n",
       "<style scoped>\n",
       "    .dataframe tbody tr th:only-of-type {\n",
       "        vertical-align: middle;\n",
       "    }\n",
       "\n",
       "    .dataframe tbody tr th {\n",
       "        vertical-align: top;\n",
       "    }\n",
       "\n",
       "    .dataframe thead th {\n",
       "        text-align: right;\n",
       "    }\n",
       "</style>\n",
       "<table border=\"1\" class=\"dataframe\">\n",
       "  <thead>\n",
       "    <tr style=\"text-align: right;\">\n",
       "      <th>Symbols</th>\n",
       "      <th>BIMBOA.MX</th>\n",
       "      <th>AEROMEX.MX</th>\n",
       "      <th>GFAMSAA.MX</th>\n",
       "    </tr>\n",
       "    <tr>\n",
       "      <th>Date</th>\n",
       "      <th></th>\n",
       "      <th></th>\n",
       "      <th></th>\n",
       "    </tr>\n",
       "  </thead>\n",
       "  <tbody>\n",
       "    <tr>\n",
       "      <th>2015-01-05</th>\n",
       "      <td>-0.001509</td>\n",
       "      <td>0.033007</td>\n",
       "      <td>-0.057412</td>\n",
       "    </tr>\n",
       "    <tr>\n",
       "      <th>2015-01-06</th>\n",
       "      <td>-0.007303</td>\n",
       "      <td>-0.022966</td>\n",
       "      <td>0.030000</td>\n",
       "    </tr>\n",
       "    <tr>\n",
       "      <th>2015-01-07</th>\n",
       "      <td>0.024607</td>\n",
       "      <td>-0.007154</td>\n",
       "      <td>0.008826</td>\n",
       "    </tr>\n",
       "    <tr>\n",
       "      <th>2015-01-08</th>\n",
       "      <td>0.015598</td>\n",
       "      <td>0.072568</td>\n",
       "      <td>0.009624</td>\n",
       "    </tr>\n",
       "    <tr>\n",
       "      <th>2015-01-09</th>\n",
       "      <td>-0.019503</td>\n",
       "      <td>-0.021113</td>\n",
       "      <td>-0.014731</td>\n",
       "    </tr>\n",
       "    <tr>\n",
       "      <th>...</th>\n",
       "      <td>...</td>\n",
       "      <td>...</td>\n",
       "      <td>...</td>\n",
       "    </tr>\n",
       "    <tr>\n",
       "      <th>2020-10-27</th>\n",
       "      <td>0.025000</td>\n",
       "      <td>-0.061644</td>\n",
       "      <td>0.000000</td>\n",
       "    </tr>\n",
       "    <tr>\n",
       "      <th>2020-10-28</th>\n",
       "      <td>-0.015647</td>\n",
       "      <td>0.021898</td>\n",
       "      <td>-0.022500</td>\n",
       "    </tr>\n",
       "    <tr>\n",
       "      <th>2020-10-29</th>\n",
       "      <td>-0.049790</td>\n",
       "      <td>0.004762</td>\n",
       "      <td>0.015345</td>\n",
       "    </tr>\n",
       "    <tr>\n",
       "      <th>2020-10-30</th>\n",
       "      <td>0.008364</td>\n",
       "      <td>0.004739</td>\n",
       "      <td>-0.042821</td>\n",
       "    </tr>\n",
       "    <tr>\n",
       "      <th>2020-11-03</th>\n",
       "      <td>0.016345</td>\n",
       "      <td>0.049528</td>\n",
       "      <td>0.000000</td>\n",
       "    </tr>\n",
       "  </tbody>\n",
       "</table>\n",
       "<p>1467 rows × 3 columns</p>\n",
       "</div>"
      ],
      "text/plain": [
       "Symbols     BIMBOA.MX  AEROMEX.MX  GFAMSAA.MX\n",
       "Date                                         \n",
       "2015-01-05  -0.001509    0.033007   -0.057412\n",
       "2015-01-06  -0.007303   -0.022966    0.030000\n",
       "2015-01-07   0.024607   -0.007154    0.008826\n",
       "2015-01-08   0.015598    0.072568    0.009624\n",
       "2015-01-09  -0.019503   -0.021113   -0.014731\n",
       "...               ...         ...         ...\n",
       "2020-10-27   0.025000   -0.061644    0.000000\n",
       "2020-10-28  -0.015647    0.021898   -0.022500\n",
       "2020-10-29  -0.049790    0.004762    0.015345\n",
       "2020-10-30   0.008364    0.004739   -0.042821\n",
       "2020-11-03   0.016345    0.049528    0.000000\n",
       "\n",
       "[1467 rows x 3 columns]"
      ]
     },
     "execution_count": 29,
     "metadata": {},
     "output_type": "execute_result"
    }
   ],
   "source": [
    "# Entonces los rendimientos se calculan como\n",
    "ret_MX = (datos_MX - datos_MX.shift())/datos_MX.shift()\n",
    "ret_MX = ret_MX.dropna()\n",
    "ret_MX"
   ]
  },
  {
   "cell_type": "code",
   "execution_count": 28,
   "metadata": {
    "scrolled": true
   },
   "outputs": [
    {
     "data": {
      "text/html": [
       "<div>\n",
       "<style scoped>\n",
       "    .dataframe tbody tr th:only-of-type {\n",
       "        vertical-align: middle;\n",
       "    }\n",
       "\n",
       "    .dataframe tbody tr th {\n",
       "        vertical-align: top;\n",
       "    }\n",
       "\n",
       "    .dataframe thead th {\n",
       "        text-align: right;\n",
       "    }\n",
       "</style>\n",
       "<table border=\"1\" class=\"dataframe\">\n",
       "  <thead>\n",
       "    <tr style=\"text-align: right;\">\n",
       "      <th>Symbols</th>\n",
       "      <th>BIMBOA.MX</th>\n",
       "      <th>AEROMEX.MX</th>\n",
       "      <th>GFAMSAA.MX</th>\n",
       "    </tr>\n",
       "    <tr>\n",
       "      <th>Date</th>\n",
       "      <th></th>\n",
       "      <th></th>\n",
       "      <th></th>\n",
       "    </tr>\n",
       "  </thead>\n",
       "  <tbody>\n",
       "    <tr>\n",
       "      <th>2015-01-05</th>\n",
       "      <td>-0.001509</td>\n",
       "      <td>0.033007</td>\n",
       "      <td>-0.057412</td>\n",
       "    </tr>\n",
       "    <tr>\n",
       "      <th>2015-01-06</th>\n",
       "      <td>-0.007303</td>\n",
       "      <td>-0.022966</td>\n",
       "      <td>0.030000</td>\n",
       "    </tr>\n",
       "    <tr>\n",
       "      <th>2015-01-07</th>\n",
       "      <td>0.024607</td>\n",
       "      <td>-0.007154</td>\n",
       "      <td>0.008826</td>\n",
       "    </tr>\n",
       "    <tr>\n",
       "      <th>2015-01-08</th>\n",
       "      <td>0.015598</td>\n",
       "      <td>0.072568</td>\n",
       "      <td>0.009624</td>\n",
       "    </tr>\n",
       "    <tr>\n",
       "      <th>2015-01-09</th>\n",
       "      <td>-0.019503</td>\n",
       "      <td>-0.021113</td>\n",
       "      <td>-0.014731</td>\n",
       "    </tr>\n",
       "    <tr>\n",
       "      <th>...</th>\n",
       "      <td>...</td>\n",
       "      <td>...</td>\n",
       "      <td>...</td>\n",
       "    </tr>\n",
       "    <tr>\n",
       "      <th>2020-10-27</th>\n",
       "      <td>0.025000</td>\n",
       "      <td>-0.061644</td>\n",
       "      <td>0.000000</td>\n",
       "    </tr>\n",
       "    <tr>\n",
       "      <th>2020-10-28</th>\n",
       "      <td>-0.015647</td>\n",
       "      <td>0.021898</td>\n",
       "      <td>-0.022500</td>\n",
       "    </tr>\n",
       "    <tr>\n",
       "      <th>2020-10-29</th>\n",
       "      <td>-0.049790</td>\n",
       "      <td>0.004762</td>\n",
       "      <td>0.015345</td>\n",
       "    </tr>\n",
       "    <tr>\n",
       "      <th>2020-10-30</th>\n",
       "      <td>0.008364</td>\n",
       "      <td>0.004739</td>\n",
       "      <td>-0.042821</td>\n",
       "    </tr>\n",
       "    <tr>\n",
       "      <th>2020-11-03</th>\n",
       "      <td>0.016345</td>\n",
       "      <td>0.049528</td>\n",
       "      <td>0.000000</td>\n",
       "    </tr>\n",
       "  </tbody>\n",
       "</table>\n",
       "<p>1467 rows × 3 columns</p>\n",
       "</div>"
      ],
      "text/plain": [
       "Symbols     BIMBOA.MX  AEROMEX.MX  GFAMSAA.MX\n",
       "Date                                         \n",
       "2015-01-05  -0.001509    0.033007   -0.057412\n",
       "2015-01-06  -0.007303   -0.022966    0.030000\n",
       "2015-01-07   0.024607   -0.007154    0.008826\n",
       "2015-01-08   0.015598    0.072568    0.009624\n",
       "2015-01-09  -0.019503   -0.021113   -0.014731\n",
       "...               ...         ...         ...\n",
       "2020-10-27   0.025000   -0.061644    0.000000\n",
       "2020-10-28  -0.015647    0.021898   -0.022500\n",
       "2020-10-29  -0.049790    0.004762    0.015345\n",
       "2020-10-30   0.008364    0.004739   -0.042821\n",
       "2020-11-03   0.016345    0.049528    0.000000\n",
       "\n",
       "[1467 rows x 3 columns]"
      ]
     },
     "execution_count": 28,
     "metadata": {},
     "output_type": "execute_result"
    }
   ],
   "source": [
    "# Método pct_change\n",
    "datos_MX.pct_change().dropna()"
   ]
  },
  {
   "cell_type": "markdown",
   "metadata": {},
   "source": [
    "y la gráfica de los rendimientos se puede obtener como..."
   ]
  },
  {
   "cell_type": "code",
   "execution_count": 30,
   "metadata": {},
   "outputs": [
    {
     "data": {
      "text/plain": [
       "<matplotlib.axes._subplots.AxesSubplot at 0x292d55dcf08>"
      ]
     },
     "execution_count": 30,
     "metadata": {},
     "output_type": "execute_result"
    },
    {
     "data": {
      "image/png": "[encoded data removed]",
      "text/plain": [
       "<Figure size 1080x576 with 1 Axes>"
      ]
     },
     "metadata": {
      "needs_background": "light"
     },
     "output_type": "display_data"
    }
   ],
   "source": [
    "# Gráfica\n",
    "ret_MX.plot(figsize=(15,8))"
   ]
  },
  {
   "cell_type": "markdown",
   "metadata": {},
   "source": [
    "Donde se observa que el rendimiento tiene una tendencia constante y, por tanto, se puede plantear la hipótesis de que se puede modelar usando un proceso estocástico estacionario en media."
   ]
  },
  {
   "cell_type": "markdown",
   "metadata": {},
   "source": [
    "Otro rendimiento usado con frecuencia es el rendimiento continuamente compuesto o rendimiento logaritmico. Éste, está definido como\n",
    "\n",
    "$$\n",
    "r_t=\\ln\\left(\\frac{S_t}{S_{t-1}}\\right).\n",
    "$$\n",
    "\n",
    "**Esta ecuación sólo es válida cuando se tienen periodos cortos de tiempo**\n",
    "Es fácil darse cuenta que $r_t=\\ln(1+R_t)$.\n",
    "\n",
    "**Nota:** ver gráficamente que si $0\\leq|x|\\ll 1$, entonces $\\ln(1+x)\\approx x$.\n",
    "\n",
    "Para este caso, la fórmula del rendimiento continuamente compuesto se translada facilmente a código Python (obtener, graficar y comparar)."
   ]
  },
  {
   "cell_type": "code",
   "execution_count": 31,
   "metadata": {
    "scrolled": true
   },
   "outputs": [
    {
     "data": {
      "text/html": [
       "<div>\n",
       "<style scoped>\n",
       "    .dataframe tbody tr th:only-of-type {\n",
       "        vertical-align: middle;\n",
       "    }\n",
       "\n",
       "    .dataframe tbody tr th {\n",
       "        vertical-align: top;\n",
       "    }\n",
       "\n",
       "    .dataframe thead th {\n",
       "        text-align: right;\n",
       "    }\n",
       "</style>\n",
       "<table border=\"1\" class=\"dataframe\">\n",
       "  <thead>\n",
       "    <tr style=\"text-align: right;\">\n",
       "      <th>Symbols</th>\n",
       "      <th>BIMBOA.MX</th>\n",
       "      <th>AEROMEX.MX</th>\n",
       "      <th>GFAMSAA.MX</th>\n",
       "    </tr>\n",
       "    <tr>\n",
       "      <th>Date</th>\n",
       "      <th></th>\n",
       "      <th></th>\n",
       "      <th></th>\n",
       "    </tr>\n",
       "  </thead>\n",
       "  <tbody>\n",
       "    <tr>\n",
       "      <th>2015-01-02</th>\n",
       "      <td>NaN</td>\n",
       "      <td>NaN</td>\n",
       "      <td>NaN</td>\n",
       "    </tr>\n",
       "    <tr>\n",
       "      <th>2015-01-05</th>\n",
       "      <td>-0.001510</td>\n",
       "      <td>0.032474</td>\n",
       "      <td>-0.059126</td>\n",
       "    </tr>\n",
       "    <tr>\n",
       "      <th>2015-01-06</th>\n",
       "      <td>-0.007330</td>\n",
       "      <td>-0.023233</td>\n",
       "      <td>0.029559</td>\n",
       "    </tr>\n",
       "    <tr>\n",
       "      <th>2015-01-07</th>\n",
       "      <td>0.024309</td>\n",
       "      <td>-0.007179</td>\n",
       "      <td>0.008787</td>\n",
       "    </tr>\n",
       "    <tr>\n",
       "      <th>2015-01-08</th>\n",
       "      <td>0.015477</td>\n",
       "      <td>0.070056</td>\n",
       "      <td>0.009578</td>\n",
       "    </tr>\n",
       "    <tr>\n",
       "      <th>...</th>\n",
       "      <td>...</td>\n",
       "      <td>...</td>\n",
       "      <td>...</td>\n",
       "    </tr>\n",
       "    <tr>\n",
       "      <th>2020-10-27</th>\n",
       "      <td>0.024693</td>\n",
       "      <td>-0.063626</td>\n",
       "      <td>0.000000</td>\n",
       "    </tr>\n",
       "    <tr>\n",
       "      <th>2020-10-28</th>\n",
       "      <td>-0.015770</td>\n",
       "      <td>0.021661</td>\n",
       "      <td>-0.022757</td>\n",
       "    </tr>\n",
       "    <tr>\n",
       "      <th>2020-10-29</th>\n",
       "      <td>-0.051072</td>\n",
       "      <td>0.004751</td>\n",
       "      <td>0.015229</td>\n",
       "    </tr>\n",
       "    <tr>\n",
       "      <th>2020-10-30</th>\n",
       "      <td>0.008329</td>\n",
       "      <td>0.004728</td>\n",
       "      <td>-0.043765</td>\n",
       "    </tr>\n",
       "    <tr>\n",
       "      <th>2020-11-03</th>\n",
       "      <td>0.016213</td>\n",
       "      <td>0.048341</td>\n",
       "      <td>0.000000</td>\n",
       "    </tr>\n",
       "  </tbody>\n",
       "</table>\n",
       "<p>1468 rows × 3 columns</p>\n",
       "</div>"
      ],
      "text/plain": [
       "Symbols     BIMBOA.MX  AEROMEX.MX  GFAMSAA.MX\n",
       "Date                                         \n",
       "2015-01-02        NaN         NaN         NaN\n",
       "2015-01-05  -0.001510    0.032474   -0.059126\n",
       "2015-01-06  -0.007330   -0.023233    0.029559\n",
       "2015-01-07   0.024309   -0.007179    0.008787\n",
       "2015-01-08   0.015477    0.070056    0.009578\n",
       "...               ...         ...         ...\n",
       "2020-10-27   0.024693   -0.063626    0.000000\n",
       "2020-10-28  -0.015770    0.021661   -0.022757\n",
       "2020-10-29  -0.051072    0.004751    0.015229\n",
       "2020-10-30   0.008329    0.004728   -0.043765\n",
       "2020-11-03   0.016213    0.048341    0.000000\n",
       "\n",
       "[1468 rows x 3 columns]"
      ]
     },
     "execution_count": 31,
     "metadata": {},
     "output_type": "execute_result"
    }
   ],
   "source": [
    "# Rendimiento logarítmico\n",
    "ret_log = np.log(datos_MX/datos_MX.shift())\n",
    "ret_log"
   ]
  },
  {
   "cell_type": "code",
   "execution_count": 32,
   "metadata": {},
   "outputs": [
    {
     "data": {
      "text/plain": [
       "<matplotlib.axes._subplots.AxesSubplot at 0x292d609da08>"
      ]
     },
     "execution_count": 32,
     "metadata": {},
     "output_type": "execute_result"
    },
    {
     "data": {
      "image/png": "[encoded data removed]",
      "text/plain": [
       "<Figure size 1080x576 with 1 Axes>"
      ]
     },
     "metadata": {
      "needs_background": "light"
     },
     "output_type": "display_data"
    }
   ],
   "source": [
    "# Gráfica\n",
    "ret_log.plot(figsize=(15,8))"
   ]
  },
  {
   "cell_type": "code",
   "execution_count": 17,
   "metadata": {},
   "outputs": [],
   "source": [
    "# Valor absoluto de la diferencia\n"
   ]
  },
  {
   "cell_type": "markdown",
   "metadata": {},
   "source": [
    "Donde se observa que el rendimiento tiene una tendencia constante y, por tanto, se puede plantear la hipótesis de que se puede modelar usando un proceso estocástico estacionario en media.\n",
    "\n",
    "Podemos incluso plantear la hipótesis de que los log rendimientos son normales..."
   ]
  },
  {
   "cell_type": "code",
   "execution_count": 35,
   "metadata": {},
   "outputs": [
    {
     "data": {
      "text/plain": [
       "0.00022764185801719532"
      ]
     },
     "execution_count": 35,
     "metadata": {},
     "output_type": "execute_result"
    }
   ],
   "source": [
    "# Media y volatilidad de rendimientos\n",
    "ret_MX.mean()['BIMBOA.MX']"
   ]
  },
  {
   "cell_type": "code",
   "execution_count": 36,
   "metadata": {},
   "outputs": [
    {
     "data": {
      "text/plain": [
       "Symbols\n",
       "BIMBOA.MX     0.018266\n",
       "AEROMEX.MX    0.024488\n",
       "GFAMSAA.MX    0.034789\n",
       "dtype: float64"
      ]
     },
     "execution_count": 36,
     "metadata": {},
     "output_type": "execute_result"
    }
   ],
   "source": [
    "ret_MX.std()"
   ]
  },
  {
   "cell_type": "code",
   "execution_count": 37,
   "metadata": {},
   "outputs": [
    {
     "data": {
      "text/plain": [
       "0.03478894221880014"
      ]
     },
     "execution_count": 37,
     "metadata": {},
     "output_type": "execute_result"
    }
   ],
   "source": [
    "ret_MX.std()['GFAMSAA.MX']"
   ]
  },
  {
   "cell_type": "code",
   "execution_count": null,
   "metadata": {},
   "outputs": [],
   "source": []
  },
  {
   "cell_type": "markdown",
   "metadata": {},
   "source": [
    "___\n",
    "Recapitulando, hoy aprendimos a obtener datos con pandas-datareader directamente desde un archivo local ó fuentes remotas.\n",
    "\n",
    "Por otra parte, estudiamos los rendimientos diarios y dimos con la conclusión de que se podrían modelar como un proceso estocástico estacionario normal."
   ]
  },
  {
   "cell_type": "markdown",
   "metadata": {},
   "source": [
    "La siguiente clase veremos como simular escenarios de comportamiento de los precios futuros (no determinístico, no sabemos como se comporta, muchas posibilidades: montecarlo) a partir de datos de ingresos diarios.\n",
    "\n",
    "Luego, con esas predicciones veremos la probabilidad de que el precio de las acciones quede por encima (debajo) de cierto umbral y con ello tomar decisiones de vender (comprar) estas acciones."
   ]
  },
  {
   "cell_type": "markdown",
   "metadata": {},
   "source": [
    "<script>\n",
    "  $(document).ready(function(){\n",
    "    $('div.prompt').hide();\n",
    "    $('div.back-to-top').hide();\n",
    "    $('nav#menubar').hide();\n",
    "    $('.breadcrumb').hide();\n",
    "    $('.hidden-print').hide();\n",
    "  });\n",
    "</script>\n",
    "\n",
    "<footer id=\"attribution\" style=\"float:right; color:#808080; background:#fff;\">\n",
    "Created with Jupyter by Cristian Camilo Zapata Zuluaga.\n",
    "</footer>"
   ]
  }
 ],
 "metadata": {
  "kernelspec": {
   "display_name": "Python 3",
   "language": "python",
   "name": "python3"
  },
  "language_info": {
   "codemirror_mode": {
    "name": "ipython",
    "version": 3
   },
   "file_extension": ".py",
   "mimetype": "text/x-python",
   "name": "python",
   "nbconvert_exporter": "python",
   "pygments_lexer": "ipython3",
   "version": "3.7.6"
  }
 },
 "nbformat": 4,
 "nbformat_minor": 2
}
